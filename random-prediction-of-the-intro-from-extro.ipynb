{
 "cells": [
  {
   "cell_type": "code",
   "execution_count": 1,
   "id": "9f15f31e",
   "metadata": {
    "_cell_guid": "b1076dfc-b9ad-4769-8c92-a6c4dae69d19",
    "_uuid": "8f2839f25d086af736a60e9eeb907d3b93b6e0e5",
    "execution": {
     "iopub.execute_input": "2025-07-08T10:42:46.517993Z",
     "iopub.status.busy": "2025-07-08T10:42:46.517682Z",
     "iopub.status.idle": "2025-07-08T10:42:50.760244Z",
     "shell.execute_reply": "2025-07-08T10:42:50.759126Z"
    },
    "papermill": {
     "duration": 4.248368,
     "end_time": "2025-07-08T10:42:50.761898",
     "exception": false,
     "start_time": "2025-07-08T10:42:46.513530",
     "status": "completed"
    },
    "tags": []
   },
   "outputs": [
    {
     "name": "stdout",
     "output_type": "stream",
     "text": [
      "/kaggle/input/playground-series-s5e7/sample_submission.csv\n",
      "/kaggle/input/playground-series-s5e7/train.csv\n",
      "/kaggle/input/playground-series-s5e7/test.csv\n"
     ]
    }
   ],
   "source": [
    "# This Python 3 environment comes with many helpful analytics libraries installed\n",
    "# It is defined by the kaggle/python Docker image: https://github.com/kaggle/docker-python\n",
    "# For example, here's several helpful packages to load\n",
    "\n",
    "import numpy as np # linear algebra\n",
    "import pandas as pd # data processing, CSV file I/O (e.g. pd.read_csv)\n",
    "from sklearn.model_selection import train_test_split\n",
    "from sklearn.preprocessing import LabelEncoder, OneHotEncoder\n",
    "from sklearn.ensemble import RandomForestClassifier\n",
    "from sklearn.metrics import classification_report\n",
    "from sklearn.impute import SimpleImputer\n",
    "# Input data files are available in the read-only \"../input/\" directory\n",
    "# For example, running this (by clicking run or pressing Shift+Enter) will list all files under the input directory\n",
    "\n",
    "import os\n",
    "for dirname, _, filenames in os.walk('/kaggle/input'):\n",
    "    for filename in filenames:\n",
    "        print(os.path.join(dirname, filename))\n",
    "\n",
    "# You can write up to 20GB to the current directory (/kaggle/working/) that gets preserved as output when you create a version using \"Save & Run All\" \n",
    "# You can also write temporary files to /kaggle/temp/, but they won't be saved outside of the current session"
   ]
  },
  {
   "cell_type": "code",
   "execution_count": 2,
   "id": "525d1153",
   "metadata": {
    "execution": {
     "iopub.execute_input": "2025-07-08T10:42:50.769277Z",
     "iopub.status.busy": "2025-07-08T10:42:50.768549Z",
     "iopub.status.idle": "2025-07-08T10:42:50.842130Z",
     "shell.execute_reply": "2025-07-08T10:42:50.841127Z"
    },
    "papermill": {
     "duration": 0.079187,
     "end_time": "2025-07-08T10:42:50.844029",
     "exception": false,
     "start_time": "2025-07-08T10:42:50.764842",
     "status": "completed"
    },
    "tags": []
   },
   "outputs": [],
   "source": [
    "Sample_sub = pd.read_csv('/kaggle/input/playground-series-s5e7/sample_submission.csv')\n",
    "train_set = pd.read_csv('/kaggle/input/playground-series-s5e7/train.csv')\n",
    "test_set = pd.read_csv('/kaggle/input/playground-series-s5e7/test.csv')"
   ]
  },
  {
   "cell_type": "code",
   "execution_count": 3,
   "id": "9e2797b6",
   "metadata": {
    "execution": {
     "iopub.execute_input": "2025-07-08T10:42:50.850643Z",
     "iopub.status.busy": "2025-07-08T10:42:50.849658Z",
     "iopub.status.idle": "2025-07-08T10:42:50.869335Z",
     "shell.execute_reply": "2025-07-08T10:42:50.867894Z"
    },
    "papermill": {
     "duration": 0.024392,
     "end_time": "2025-07-08T10:42:50.870932",
     "exception": false,
     "start_time": "2025-07-08T10:42:50.846540",
     "status": "completed"
    },
    "tags": []
   },
   "outputs": [
    {
     "name": "stdout",
     "output_type": "stream",
     "text": [
      "      id Personality\n",
      "0  18524   Extrovert\n",
      "1  18525   Extrovert\n",
      "2  18526   Extrovert\n",
      "3  18527   Extrovert\n",
      "4  18528   Extrovert\n",
      "      id  Time_spent_Alone Stage_fear  Social_event_attendance  Going_outside  \\\n",
      "0  18524               3.0         No                      7.0            4.0   \n",
      "1  18525               NaN        Yes                      0.0            0.0   \n",
      "2  18526               3.0         No                      5.0            6.0   \n",
      "3  18527               3.0         No                      4.0            4.0   \n",
      "4  18528               9.0        Yes                      1.0            2.0   \n",
      "\n",
      "  Drained_after_socializing  Friends_circle_size  Post_frequency  \n",
      "0                        No                  6.0             NaN  \n",
      "1                       Yes                  5.0             1.0  \n",
      "2                        No                 15.0             9.0  \n",
      "3                        No                  5.0             6.0  \n",
      "4                       Yes                  1.0             1.0  \n"
     ]
    },
    {
     "name": "stderr",
     "output_type": "stream",
     "text": [
      "/usr/local/lib/python3.11/dist-packages/pandas/io/formats/format.py:1458: RuntimeWarning: invalid value encountered in greater\n",
      "  has_large_values = (abs_vals > 1e6).any()\n",
      "/usr/local/lib/python3.11/dist-packages/pandas/io/formats/format.py:1459: RuntimeWarning: invalid value encountered in less\n",
      "  has_small_values = ((abs_vals < 10 ** (-self.digits)) & (abs_vals > 0)).any()\n",
      "/usr/local/lib/python3.11/dist-packages/pandas/io/formats/format.py:1459: RuntimeWarning: invalid value encountered in greater\n",
      "  has_small_values = ((abs_vals < 10 ** (-self.digits)) & (abs_vals > 0)).any()\n"
     ]
    }
   ],
   "source": [
    "print(Sample_sub.head())\n",
    "# print(train_set.head())\n",
    "print(test_set.head())"
   ]
  },
  {
   "cell_type": "code",
   "execution_count": 4,
   "id": "dce12bdf",
   "metadata": {
    "execution": {
     "iopub.execute_input": "2025-07-08T10:42:50.877514Z",
     "iopub.status.busy": "2025-07-08T10:42:50.876755Z",
     "iopub.status.idle": "2025-07-08T10:42:50.899017Z",
     "shell.execute_reply": "2025-07-08T10:42:50.898023Z"
    },
    "papermill": {
     "duration": 0.02737,
     "end_time": "2025-07-08T10:42:50.900809",
     "exception": false,
     "start_time": "2025-07-08T10:42:50.873439",
     "status": "completed"
    },
    "tags": []
   },
   "outputs": [
    {
     "name": "stderr",
     "output_type": "stream",
     "text": [
      "/usr/local/lib/python3.11/dist-packages/pandas/io/formats/format.py:1458: RuntimeWarning: invalid value encountered in greater\n",
      "  has_large_values = (abs_vals > 1e6).any()\n",
      "/usr/local/lib/python3.11/dist-packages/pandas/io/formats/format.py:1459: RuntimeWarning: invalid value encountered in less\n",
      "  has_small_values = ((abs_vals < 10 ** (-self.digits)) & (abs_vals > 0)).any()\n",
      "/usr/local/lib/python3.11/dist-packages/pandas/io/formats/format.py:1459: RuntimeWarning: invalid value encountered in greater\n",
      "  has_small_values = ((abs_vals < 10 ** (-self.digits)) & (abs_vals > 0)).any()\n"
     ]
    },
    {
     "data": {
      "text/html": [
       "<div>\n",
       "<style scoped>\n",
       "    .dataframe tbody tr th:only-of-type {\n",
       "        vertical-align: middle;\n",
       "    }\n",
       "\n",
       "    .dataframe tbody tr th {\n",
       "        vertical-align: top;\n",
       "    }\n",
       "\n",
       "    .dataframe thead th {\n",
       "        text-align: right;\n",
       "    }\n",
       "</style>\n",
       "<table border=\"1\" class=\"dataframe\">\n",
       "  <thead>\n",
       "    <tr style=\"text-align: right;\">\n",
       "      <th></th>\n",
       "      <th>id</th>\n",
       "      <th>Time_spent_Alone</th>\n",
       "      <th>Stage_fear</th>\n",
       "      <th>Social_event_attendance</th>\n",
       "      <th>Going_outside</th>\n",
       "      <th>Drained_after_socializing</th>\n",
       "      <th>Friends_circle_size</th>\n",
       "      <th>Post_frequency</th>\n",
       "      <th>Personality</th>\n",
       "    </tr>\n",
       "  </thead>\n",
       "  <tbody>\n",
       "    <tr>\n",
       "      <th>0</th>\n",
       "      <td>0</td>\n",
       "      <td>0.0</td>\n",
       "      <td>No</td>\n",
       "      <td>6.0</td>\n",
       "      <td>4.0</td>\n",
       "      <td>No</td>\n",
       "      <td>15.0</td>\n",
       "      <td>5.0</td>\n",
       "      <td>Extrovert</td>\n",
       "    </tr>\n",
       "    <tr>\n",
       "      <th>1</th>\n",
       "      <td>1</td>\n",
       "      <td>1.0</td>\n",
       "      <td>No</td>\n",
       "      <td>7.0</td>\n",
       "      <td>3.0</td>\n",
       "      <td>No</td>\n",
       "      <td>10.0</td>\n",
       "      <td>8.0</td>\n",
       "      <td>Extrovert</td>\n",
       "    </tr>\n",
       "    <tr>\n",
       "      <th>2</th>\n",
       "      <td>2</td>\n",
       "      <td>6.0</td>\n",
       "      <td>Yes</td>\n",
       "      <td>1.0</td>\n",
       "      <td>0.0</td>\n",
       "      <td>NaN</td>\n",
       "      <td>3.0</td>\n",
       "      <td>0.0</td>\n",
       "      <td>Introvert</td>\n",
       "    </tr>\n",
       "    <tr>\n",
       "      <th>3</th>\n",
       "      <td>3</td>\n",
       "      <td>3.0</td>\n",
       "      <td>No</td>\n",
       "      <td>7.0</td>\n",
       "      <td>3.0</td>\n",
       "      <td>No</td>\n",
       "      <td>11.0</td>\n",
       "      <td>5.0</td>\n",
       "      <td>Extrovert</td>\n",
       "    </tr>\n",
       "    <tr>\n",
       "      <th>4</th>\n",
       "      <td>4</td>\n",
       "      <td>1.0</td>\n",
       "      <td>No</td>\n",
       "      <td>4.0</td>\n",
       "      <td>4.0</td>\n",
       "      <td>No</td>\n",
       "      <td>13.0</td>\n",
       "      <td>NaN</td>\n",
       "      <td>Extrovert</td>\n",
       "    </tr>\n",
       "  </tbody>\n",
       "</table>\n",
       "</div>"
      ],
      "text/plain": [
       "   id  Time_spent_Alone Stage_fear  Social_event_attendance  Going_outside  \\\n",
       "0   0               0.0         No                      6.0            4.0   \n",
       "1   1               1.0         No                      7.0            3.0   \n",
       "2   2               6.0        Yes                      1.0            0.0   \n",
       "3   3               3.0         No                      7.0            3.0   \n",
       "4   4               1.0         No                      4.0            4.0   \n",
       "\n",
       "  Drained_after_socializing  Friends_circle_size  Post_frequency Personality  \n",
       "0                        No                 15.0             5.0   Extrovert  \n",
       "1                        No                 10.0             8.0   Extrovert  \n",
       "2                       NaN                  3.0             0.0   Introvert  \n",
       "3                        No                 11.0             5.0   Extrovert  \n",
       "4                        No                 13.0             NaN   Extrovert  "
      ]
     },
     "execution_count": 4,
     "metadata": {},
     "output_type": "execute_result"
    }
   ],
   "source": [
    "train_set.head()"
   ]
  },
  {
   "cell_type": "code",
   "execution_count": 5,
   "id": "115ecf0f",
   "metadata": {
    "execution": {
     "iopub.execute_input": "2025-07-08T10:42:50.908228Z",
     "iopub.status.busy": "2025-07-08T10:42:50.907101Z",
     "iopub.status.idle": "2025-07-08T10:42:50.922471Z",
     "shell.execute_reply": "2025-07-08T10:42:50.921548Z"
    },
    "papermill": {
     "duration": 0.020454,
     "end_time": "2025-07-08T10:42:50.923984",
     "exception": false,
     "start_time": "2025-07-08T10:42:50.903530",
     "status": "completed"
    },
    "tags": []
   },
   "outputs": [],
   "source": [
    "#clearning the train_Set\n",
    "data_clean = train_set.dropna()"
   ]
  },
  {
   "cell_type": "code",
   "execution_count": 6,
   "id": "de44a7ab",
   "metadata": {
    "execution": {
     "iopub.execute_input": "2025-07-08T10:42:50.930501Z",
     "iopub.status.busy": "2025-07-08T10:42:50.930138Z",
     "iopub.status.idle": "2025-07-08T10:42:51.796795Z",
     "shell.execute_reply": "2025-07-08T10:42:51.795813Z"
    },
    "papermill": {
     "duration": 0.871891,
     "end_time": "2025-07-08T10:42:51.798500",
     "exception": false,
     "start_time": "2025-07-08T10:42:50.926609",
     "status": "completed"
    },
    "tags": []
   },
   "outputs": [
    {
     "name": "stdout",
     "output_type": "stream",
     "text": [
      "              precision    recall  f1-score   support\n",
      "\n",
      "   Extrovert       0.97      0.98      0.97      1700\n",
      "   Introvert       0.88      0.86      0.87       338\n",
      "\n",
      "    accuracy                           0.96      2038\n",
      "   macro avg       0.93      0.92      0.92      2038\n",
      "weighted avg       0.96      0.96      0.96      2038\n",
      "\n"
     ]
    }
   ],
   "source": [
    "# One-hot encode all categorical features (including numerically-stored ones)\n",
    "categorical_columns = ['Stage_fear', 'Drained_after_socializing', 'Social_event_attendance', 'Friends_circle_size']\n",
    "data_encoded = pd.get_dummies(data_clean, columns=categorical_columns, drop_first=True)\n",
    "\n",
    "# Encode the target\n",
    "label_encoder = LabelEncoder()\n",
    "data_encoded['Personality'] = label_encoder.fit_transform(data_encoded['Personality'])\n",
    "\n",
    "# Features and target\n",
    "X = data_encoded.drop('Personality', axis=1)\n",
    "y = data_encoded['Personality']\n",
    "\n",
    "# Train-test split\n",
    "X_train, X_test, y_train, y_test = train_test_split(X, y, test_size=0.2, random_state=42)\n",
    "\n",
    "# Model training\n",
    "model = RandomForestClassifier(random_state=42)\n",
    "model.fit(X_train, y_train)\n",
    "\n",
    "# Evaluation\n",
    "y_pred = model.predict(X_test)\n",
    "print(classification_report(y_test, y_pred, target_names=label_encoder.classes_))"
   ]
  },
  {
   "cell_type": "code",
   "execution_count": 7,
   "id": "62943774",
   "metadata": {
    "execution": {
     "iopub.execute_input": "2025-07-08T10:42:51.804956Z",
     "iopub.status.busy": "2025-07-08T10:42:51.804661Z",
     "iopub.status.idle": "2025-07-08T10:42:51.947475Z",
     "shell.execute_reply": "2025-07-08T10:42:51.946436Z"
    },
    "papermill": {
     "duration": 0.147864,
     "end_time": "2025-07-08T10:42:51.949025",
     "exception": false,
     "start_time": "2025-07-08T10:42:51.801161",
     "status": "completed"
    },
    "tags": []
   },
   "outputs": [
    {
     "name": "stdout",
     "output_type": "stream",
     "text": [
      "      id Personality\n",
      "0  18524   Extrovert\n",
      "1  18525   Introvert\n",
      "2  18526   Extrovert\n",
      "3  18527   Extrovert\n",
      "4  18528   Introvert\n"
     ]
    },
    {
     "name": "stderr",
     "output_type": "stream",
     "text": [
      "/usr/local/lib/python3.11/dist-packages/sklearn/base.py:439: UserWarning: X does not have valid feature names, but RandomForestClassifier was fitted with feature names\n",
      "  warnings.warn(\n"
     ]
    }
   ],
   "source": [
    "#Prepare test data (copy and encode as before)\n",
    "test_data_copy = test_set.copy()\n",
    "test_encoded = pd.get_dummies(test_data_copy, columns=categorical_columns, drop_first=True)\n",
    "#Align columns with training data\n",
    "for col in X.columns:\n",
    "    if col not in test_encoded.columns:\n",
    "        test_encoded[col] = 0\n",
    "test_encoded = test_encoded[X.columns]\n",
    "\n",
    "#Impute missing values (replace NaNs with mean)\n",
    "imputer = SimpleImputer(strategy='mean')\n",
    "test_encoded_imputed = imputer.fit_transform(test_encoded)\n",
    "\n",
    "#Predict\n",
    "y_test_pred = model.predict(test_encoded_imputed)\n",
    "\n",
    "#Inverse label encoding\n",
    "y_test_labels = label_encoder.inverse_transform(y_test_pred)\n",
    "\n",
    "#Prepare submission\n",
    "submission = pd.DataFrame({\n",
    "    'id': test_set['id'],\n",
    "    'Personality': y_test_labels\n",
    "})\n",
    "\n",
    "submission.to_csv('submission.csv', index=False)\n",
    "print(submission.head())"
   ]
  }
 ],
 "metadata": {
  "kaggle": {
   "accelerator": "none",
   "dataSources": [
    {
     "databundleVersionId": 12738969,
     "sourceId": 91718,
     "sourceType": "competition"
    }
   ],
   "dockerImageVersionId": 31089,
   "isGpuEnabled": false,
   "isInternetEnabled": true,
   "language": "python",
   "sourceType": "notebook"
  },
  "kernelspec": {
   "display_name": "Python 3",
   "language": "python",
   "name": "python3"
  },
  "language_info": {
   "codemirror_mode": {
    "name": "ipython",
    "version": 3
   },
   "file_extension": ".py",
   "mimetype": "text/x-python",
   "name": "python",
   "nbconvert_exporter": "python",
   "pygments_lexer": "ipython3",
   "version": "3.11.13"
  },
  "papermill": {
   "default_parameters": {},
   "duration": 11.317119,
   "end_time": "2025-07-08T10:42:52.672623",
   "environment_variables": {},
   "exception": null,
   "input_path": "__notebook__.ipynb",
   "output_path": "__notebook__.ipynb",
   "parameters": {},
   "start_time": "2025-07-08T10:42:41.355504",
   "version": "2.6.0"
  }
 },
 "nbformat": 4,
 "nbformat_minor": 5
}
