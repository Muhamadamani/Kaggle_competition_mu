{
 "cells": [
  {
   "cell_type": "code",
   "execution_count": 1,
   "id": "c82ef12a",
   "metadata": {
    "_cell_guid": "b1076dfc-b9ad-4769-8c92-a6c4dae69d19",
    "_uuid": "8f2839f25d086af736a60e9eeb907d3b93b6e0e5",
    "execution": {
     "iopub.execute_input": "2025-07-08T10:25:48.511940Z",
     "iopub.status.busy": "2025-07-08T10:25:48.511563Z",
     "iopub.status.idle": "2025-07-08T10:25:52.870381Z",
     "shell.execute_reply": "2025-07-08T10:25:52.869316Z"
    },
    "papermill": {
     "duration": 4.364603,
     "end_time": "2025-07-08T10:25:52.872154",
     "exception": false,
     "start_time": "2025-07-08T10:25:48.507551",
     "status": "completed"
    },
    "tags": []
   },
   "outputs": [
    {
     "name": "stdout",
     "output_type": "stream",
     "text": [
      "/kaggle/input/playground-series-s5e7/sample_submission.csv\n",
      "/kaggle/input/playground-series-s5e7/train.csv\n",
      "/kaggle/input/playground-series-s5e7/test.csv\n"
     ]
    }
   ],
   "source": [
    "# This Python 3 environment comes with many helpful analytics libraries installed\n",
    "# It is defined by the kaggle/python Docker image: https://github.com/kaggle/docker-python\n",
    "# For example, here's several helpful packages to load\n",
    "\n",
    "import numpy as np # linear algebra\n",
    "import pandas as pd # data processing, CSV file I/O (e.g. pd.read_csv)\n",
    "from sklearn.model_selection import train_test_split\n",
    "from sklearn.preprocessing import LabelEncoder, OneHotEncoder\n",
    "from sklearn.ensemble import RandomForestClassifier\n",
    "from sklearn.metrics import classification_report\n",
    "# Input data files are available in the read-only \"../input/\" directory\n",
    "# For example, running this (by clicking run or pressing Shift+Enter) will list all files under the input directory\n",
    "\n",
    "import os\n",
    "for dirname, _, filenames in os.walk('/kaggle/input'):\n",
    "    for filename in filenames:\n",
    "        print(os.path.join(dirname, filename))\n",
    "\n",
    "# You can write up to 20GB to the current directory (/kaggle/working/) that gets preserved as output when you create a version using \"Save & Run All\" \n",
    "# You can also write temporary files to /kaggle/temp/, but they won't be saved outside of the current session"
   ]
  },
  {
   "cell_type": "code",
   "execution_count": 2,
   "id": "c483ea05",
   "metadata": {
    "execution": {
     "iopub.execute_input": "2025-07-08T10:25:52.879451Z",
     "iopub.status.busy": "2025-07-08T10:25:52.878950Z",
     "iopub.status.idle": "2025-07-08T10:25:52.956643Z",
     "shell.execute_reply": "2025-07-08T10:25:52.955531Z"
    },
    "papermill": {
     "duration": 0.083041,
     "end_time": "2025-07-08T10:25:52.958490",
     "exception": false,
     "start_time": "2025-07-08T10:25:52.875449",
     "status": "completed"
    },
    "tags": []
   },
   "outputs": [],
   "source": [
    "Sample_sub = pd.read_csv('/kaggle/input/playground-series-s5e7/sample_submission.csv')\n",
    "train_set = pd.read_csv('/kaggle/input/playground-series-s5e7/train.csv')\n",
    "test_set = pd.read_csv('/kaggle/input/playground-series-s5e7/test.csv')"
   ]
  },
  {
   "cell_type": "code",
   "execution_count": 3,
   "id": "d08bbcf9",
   "metadata": {
    "execution": {
     "iopub.execute_input": "2025-07-08T10:25:52.964793Z",
     "iopub.status.busy": "2025-07-08T10:25:52.964455Z",
     "iopub.status.idle": "2025-07-08T10:25:52.983895Z",
     "shell.execute_reply": "2025-07-08T10:25:52.982853Z"
    },
    "papermill": {
     "duration": 0.024583,
     "end_time": "2025-07-08T10:25:52.985765",
     "exception": false,
     "start_time": "2025-07-08T10:25:52.961182",
     "status": "completed"
    },
    "tags": []
   },
   "outputs": [
    {
     "name": "stdout",
     "output_type": "stream",
     "text": [
      "      id Personality\n",
      "0  18524   Extrovert\n",
      "1  18525   Extrovert\n",
      "2  18526   Extrovert\n",
      "3  18527   Extrovert\n",
      "4  18528   Extrovert\n",
      "      id  Time_spent_Alone Stage_fear  Social_event_attendance  Going_outside  \\\n",
      "0  18524               3.0         No                      7.0            4.0   \n",
      "1  18525               NaN        Yes                      0.0            0.0   \n",
      "2  18526               3.0         No                      5.0            6.0   \n",
      "3  18527               3.0         No                      4.0            4.0   \n",
      "4  18528               9.0        Yes                      1.0            2.0   \n",
      "\n",
      "  Drained_after_socializing  Friends_circle_size  Post_frequency  \n",
      "0                        No                  6.0             NaN  \n",
      "1                       Yes                  5.0             1.0  \n",
      "2                        No                 15.0             9.0  \n",
      "3                        No                  5.0             6.0  \n",
      "4                       Yes                  1.0             1.0  \n"
     ]
    },
    {
     "name": "stderr",
     "output_type": "stream",
     "text": [
      "/usr/local/lib/python3.11/dist-packages/pandas/io/formats/format.py:1458: RuntimeWarning: invalid value encountered in greater\n",
      "  has_large_values = (abs_vals > 1e6).any()\n",
      "/usr/local/lib/python3.11/dist-packages/pandas/io/formats/format.py:1459: RuntimeWarning: invalid value encountered in less\n",
      "  has_small_values = ((abs_vals < 10 ** (-self.digits)) & (abs_vals > 0)).any()\n",
      "/usr/local/lib/python3.11/dist-packages/pandas/io/formats/format.py:1459: RuntimeWarning: invalid value encountered in greater\n",
      "  has_small_values = ((abs_vals < 10 ** (-self.digits)) & (abs_vals > 0)).any()\n"
     ]
    }
   ],
   "source": [
    "print(Sample_sub.head())\n",
    "# print(train_set.head())\n",
    "print(test_set.head())"
   ]
  },
  {
   "cell_type": "code",
   "execution_count": 4,
   "id": "10d6244e",
   "metadata": {
    "execution": {
     "iopub.execute_input": "2025-07-08T10:25:52.991930Z",
     "iopub.status.busy": "2025-07-08T10:25:52.991627Z",
     "iopub.status.idle": "2025-07-08T10:25:53.015070Z",
     "shell.execute_reply": "2025-07-08T10:25:53.014059Z"
    },
    "papermill": {
     "duration": 0.028407,
     "end_time": "2025-07-08T10:25:53.016669",
     "exception": false,
     "start_time": "2025-07-08T10:25:52.988262",
     "status": "completed"
    },
    "tags": []
   },
   "outputs": [
    {
     "name": "stderr",
     "output_type": "stream",
     "text": [
      "/usr/local/lib/python3.11/dist-packages/pandas/io/formats/format.py:1458: RuntimeWarning: invalid value encountered in greater\n",
      "  has_large_values = (abs_vals > 1e6).any()\n",
      "/usr/local/lib/python3.11/dist-packages/pandas/io/formats/format.py:1459: RuntimeWarning: invalid value encountered in less\n",
      "  has_small_values = ((abs_vals < 10 ** (-self.digits)) & (abs_vals > 0)).any()\n",
      "/usr/local/lib/python3.11/dist-packages/pandas/io/formats/format.py:1459: RuntimeWarning: invalid value encountered in greater\n",
      "  has_small_values = ((abs_vals < 10 ** (-self.digits)) & (abs_vals > 0)).any()\n"
     ]
    },
    {
     "data": {
      "text/html": [
       "<div>\n",
       "<style scoped>\n",
       "    .dataframe tbody tr th:only-of-type {\n",
       "        vertical-align: middle;\n",
       "    }\n",
       "\n",
       "    .dataframe tbody tr th {\n",
       "        vertical-align: top;\n",
       "    }\n",
       "\n",
       "    .dataframe thead th {\n",
       "        text-align: right;\n",
       "    }\n",
       "</style>\n",
       "<table border=\"1\" class=\"dataframe\">\n",
       "  <thead>\n",
       "    <tr style=\"text-align: right;\">\n",
       "      <th></th>\n",
       "      <th>id</th>\n",
       "      <th>Time_spent_Alone</th>\n",
       "      <th>Stage_fear</th>\n",
       "      <th>Social_event_attendance</th>\n",
       "      <th>Going_outside</th>\n",
       "      <th>Drained_after_socializing</th>\n",
       "      <th>Friends_circle_size</th>\n",
       "      <th>Post_frequency</th>\n",
       "      <th>Personality</th>\n",
       "    </tr>\n",
       "  </thead>\n",
       "  <tbody>\n",
       "    <tr>\n",
       "      <th>0</th>\n",
       "      <td>0</td>\n",
       "      <td>0.0</td>\n",
       "      <td>No</td>\n",
       "      <td>6.0</td>\n",
       "      <td>4.0</td>\n",
       "      <td>No</td>\n",
       "      <td>15.0</td>\n",
       "      <td>5.0</td>\n",
       "      <td>Extrovert</td>\n",
       "    </tr>\n",
       "    <tr>\n",
       "      <th>1</th>\n",
       "      <td>1</td>\n",
       "      <td>1.0</td>\n",
       "      <td>No</td>\n",
       "      <td>7.0</td>\n",
       "      <td>3.0</td>\n",
       "      <td>No</td>\n",
       "      <td>10.0</td>\n",
       "      <td>8.0</td>\n",
       "      <td>Extrovert</td>\n",
       "    </tr>\n",
       "    <tr>\n",
       "      <th>2</th>\n",
       "      <td>2</td>\n",
       "      <td>6.0</td>\n",
       "      <td>Yes</td>\n",
       "      <td>1.0</td>\n",
       "      <td>0.0</td>\n",
       "      <td>NaN</td>\n",
       "      <td>3.0</td>\n",
       "      <td>0.0</td>\n",
       "      <td>Introvert</td>\n",
       "    </tr>\n",
       "    <tr>\n",
       "      <th>3</th>\n",
       "      <td>3</td>\n",
       "      <td>3.0</td>\n",
       "      <td>No</td>\n",
       "      <td>7.0</td>\n",
       "      <td>3.0</td>\n",
       "      <td>No</td>\n",
       "      <td>11.0</td>\n",
       "      <td>5.0</td>\n",
       "      <td>Extrovert</td>\n",
       "    </tr>\n",
       "    <tr>\n",
       "      <th>4</th>\n",
       "      <td>4</td>\n",
       "      <td>1.0</td>\n",
       "      <td>No</td>\n",
       "      <td>4.0</td>\n",
       "      <td>4.0</td>\n",
       "      <td>No</td>\n",
       "      <td>13.0</td>\n",
       "      <td>NaN</td>\n",
       "      <td>Extrovert</td>\n",
       "    </tr>\n",
       "  </tbody>\n",
       "</table>\n",
       "</div>"
      ],
      "text/plain": [
       "   id  Time_spent_Alone Stage_fear  Social_event_attendance  Going_outside  \\\n",
       "0   0               0.0         No                      6.0            4.0   \n",
       "1   1               1.0         No                      7.0            3.0   \n",
       "2   2               6.0        Yes                      1.0            0.0   \n",
       "3   3               3.0         No                      7.0            3.0   \n",
       "4   4               1.0         No                      4.0            4.0   \n",
       "\n",
       "  Drained_after_socializing  Friends_circle_size  Post_frequency Personality  \n",
       "0                        No                 15.0             5.0   Extrovert  \n",
       "1                        No                 10.0             8.0   Extrovert  \n",
       "2                       NaN                  3.0             0.0   Introvert  \n",
       "3                        No                 11.0             5.0   Extrovert  \n",
       "4                        No                 13.0             NaN   Extrovert  "
      ]
     },
     "execution_count": 4,
     "metadata": {},
     "output_type": "execute_result"
    }
   ],
   "source": [
    "train_set.head()"
   ]
  },
  {
   "cell_type": "code",
   "execution_count": 5,
   "id": "bb14d62f",
   "metadata": {
    "execution": {
     "iopub.execute_input": "2025-07-08T10:25:53.023405Z",
     "iopub.status.busy": "2025-07-08T10:25:53.023063Z",
     "iopub.status.idle": "2025-07-08T10:25:53.038964Z",
     "shell.execute_reply": "2025-07-08T10:25:53.038149Z"
    },
    "papermill": {
     "duration": 0.021256,
     "end_time": "2025-07-08T10:25:53.040651",
     "exception": false,
     "start_time": "2025-07-08T10:25:53.019395",
     "status": "completed"
    },
    "tags": []
   },
   "outputs": [],
   "source": [
    "#clearning the train_Set\n",
    "data_clean = train_set.dropna()"
   ]
  },
  {
   "cell_type": "code",
   "execution_count": 6,
   "id": "7189c390",
   "metadata": {
    "execution": {
     "iopub.execute_input": "2025-07-08T10:25:53.047176Z",
     "iopub.status.busy": "2025-07-08T10:25:53.046861Z",
     "iopub.status.idle": "2025-07-08T10:25:53.932892Z",
     "shell.execute_reply": "2025-07-08T10:25:53.931782Z"
    },
    "papermill": {
     "duration": 0.891372,
     "end_time": "2025-07-08T10:25:53.934705",
     "exception": false,
     "start_time": "2025-07-08T10:25:53.043333",
     "status": "completed"
    },
    "tags": []
   },
   "outputs": [
    {
     "name": "stderr",
     "output_type": "stream",
     "text": [
      "/tmp/ipykernel_12/254390995.py:2: SettingWithCopyWarning: \n",
      "A value is trying to be set on a copy of a slice from a DataFrame.\n",
      "Try using .loc[row_indexer,col_indexer] = value instead\n",
      "\n",
      "See the caveats in the documentation: https://pandas.pydata.org/pandas-docs/stable/user_guide/indexing.html#returning-a-view-versus-a-copy\n",
      "  data_clean['Stage_fear'] = data_clean['Stage_fear'].astype(str)\n",
      "/tmp/ipykernel_12/254390995.py:3: SettingWithCopyWarning: \n",
      "A value is trying to be set on a copy of a slice from a DataFrame.\n",
      "Try using .loc[row_indexer,col_indexer] = value instead\n",
      "\n",
      "See the caveats in the documentation: https://pandas.pydata.org/pandas-docs/stable/user_guide/indexing.html#returning-a-view-versus-a-copy\n",
      "  data_clean['Drained_after_socializing'] = data_clean['Drained_after_socializing'].astype(str)\n"
     ]
    },
    {
     "name": "stdout",
     "output_type": "stream",
     "text": [
      "              precision    recall  f1-score   support\n",
      "\n",
      "   Extrovert       0.97      0.98      0.97      1700\n",
      "   Introvert       0.88      0.86      0.87       338\n",
      "\n",
      "    accuracy                           0.96      2038\n",
      "   macro avg       0.93      0.92      0.92      2038\n",
      "weighted avg       0.96      0.96      0.96      2038\n",
      "\n"
     ]
    }
   ],
   "source": [
    "# Convert numeric categorical variables to strings to one-hot encode them\n",
    "data_clean['Stage_fear'] = data_clean['Stage_fear'].astype(str)\n",
    "data_clean['Drained_after_socializing'] = data_clean['Drained_after_socializing'].astype(str)\n",
    "\n",
    "# One-hot encode all categorical features (including numerically-stored ones)\n",
    "categorical_columns = ['Stage_fear', 'Drained_after_socializing', 'Social_event_attendance', 'Friends_circle_size']\n",
    "data_encoded = pd.get_dummies(data_clean, columns=categorical_columns, drop_first=True)\n",
    "\n",
    "# Encode the target\n",
    "label_encoder = LabelEncoder()\n",
    "data_encoded['Personality'] = label_encoder.fit_transform(data_encoded['Personality'])\n",
    "\n",
    "# Features and target\n",
    "X = data_encoded.drop('Personality', axis=1)\n",
    "y = data_encoded['Personality']\n",
    "\n",
    "# Train-test split\n",
    "X_train, X_test, y_train, y_test = train_test_split(X, y, test_size=0.2, random_state=42)\n",
    "\n",
    "# Model training\n",
    "model = RandomForestClassifier(random_state=42)\n",
    "model.fit(X_train, y_train)\n",
    "\n",
    "# Evaluation\n",
    "y_pred = model.predict(X_test)\n",
    "print(classification_report(y_test, y_pred, target_names=label_encoder.classes_))"
   ]
  },
  {
   "cell_type": "code",
   "execution_count": 7,
   "id": "3ecd7041",
   "metadata": {
    "execution": {
     "iopub.execute_input": "2025-07-08T10:25:53.942278Z",
     "iopub.status.busy": "2025-07-08T10:25:53.941886Z",
     "iopub.status.idle": "2025-07-08T10:25:54.108310Z",
     "shell.execute_reply": "2025-07-08T10:25:54.107176Z"
    },
    "papermill": {
     "duration": 0.17237,
     "end_time": "2025-07-08T10:25:54.110145",
     "exception": false,
     "start_time": "2025-07-08T10:25:53.937775",
     "status": "completed"
    },
    "tags": []
   },
   "outputs": [
    {
     "name": "stdout",
     "output_type": "stream",
     "text": [
      "      id Personality\n",
      "0  18524   Extrovert\n",
      "1  18525   Introvert\n",
      "2  18526   Extrovert\n",
      "3  18527   Extrovert\n",
      "4  18528   Introvert\n"
     ]
    },
    {
     "name": "stderr",
     "output_type": "stream",
     "text": [
      "/usr/local/lib/python3.11/dist-packages/sklearn/base.py:439: UserWarning: X does not have valid feature names, but RandomForestClassifier was fitted with feature names\n",
      "  warnings.warn(\n"
     ]
    }
   ],
   "source": [
    "from sklearn.impute import SimpleImputer\n",
    "\n",
    "# Step 1: Prepare test data (copy and encode as before)\n",
    "test_data_copy = test_set.copy()\n",
    "\n",
    "test_data_copy['Stage_fear'] = test_data_copy['Stage_fear'].astype(str)\n",
    "test_data_copy['Drained_after_socializing'] = test_data_copy['Drained_after_socializing'].astype(str)\n",
    "\n",
    "test_encoded = pd.get_dummies(test_data_copy, columns=categorical_columns, drop_first=True)\n",
    "\n",
    "# Step 2: Align columns with training data\n",
    "for col in X.columns:\n",
    "    if col not in test_encoded.columns:\n",
    "        test_encoded[col] = 0\n",
    "test_encoded = test_encoded[X.columns]\n",
    "\n",
    "# Step 3: Impute missing values (replace NaNs with mean)\n",
    "imputer = SimpleImputer(strategy='mean')\n",
    "test_encoded_imputed = imputer.fit_transform(test_encoded)\n",
    "\n",
    "# Step 4: Predict\n",
    "y_test_pred = model.predict(test_encoded_imputed)\n",
    "\n",
    "# Step 5: Inverse label encoding\n",
    "y_test_labels = label_encoder.inverse_transform(y_test_pred)\n",
    "\n",
    "# Step 6: Prepare submission\n",
    "submission = pd.DataFrame({\n",
    "    'id': test_set['id'],\n",
    "    'Personality': y_test_labels\n",
    "})\n",
    "\n",
    "submission.to_csv('submission.csv', index=False)\n",
    "print(submission.head())\n"
   ]
  }
 ],
 "metadata": {
  "kaggle": {
   "accelerator": "none",
   "dataSources": [
    {
     "databundleVersionId": 12738969,
     "sourceId": 91718,
     "sourceType": "competition"
    }
   ],
   "dockerImageVersionId": 31089,
   "isGpuEnabled": false,
   "isInternetEnabled": true,
   "language": "python",
   "sourceType": "notebook"
  },
  "kernelspec": {
   "display_name": "Python 3",
   "language": "python",
   "name": "python3"
  },
  "language_info": {
   "codemirror_mode": {
    "name": "ipython",
    "version": 3
   },
   "file_extension": ".py",
   "mimetype": "text/x-python",
   "name": "python",
   "nbconvert_exporter": "python",
   "pygments_lexer": "ipython3",
   "version": "3.11.13"
  },
  "papermill": {
   "default_parameters": {},
   "duration": 11.53242,
   "end_time": "2025-07-08T10:25:54.833736",
   "environment_variables": {},
   "exception": null,
   "input_path": "__notebook__.ipynb",
   "output_path": "__notebook__.ipynb",
   "parameters": {},
   "start_time": "2025-07-08T10:25:43.301316",
   "version": "2.6.0"
  }
 },
 "nbformat": 4,
 "nbformat_minor": 5
}
